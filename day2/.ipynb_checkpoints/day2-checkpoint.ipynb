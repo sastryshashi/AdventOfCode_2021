{
 "cells": [
  {
   "cell_type": "code",
   "execution_count": 1,
   "metadata": {},
   "outputs": [],
   "source": [
    "#Read input from file and save each entry as a tuple"
   ]
  },
  {
   "cell_type": "code",
   "execution_count": 10,
   "metadata": {},
   "outputs": [],
   "source": [
    "def extract_to_tuple(val):\n",
    "    result = tuple(val.strip().split())\n",
    "    return (result[0], int(result[1]))\n",
    "    \n",
    "input_file = open('day2_input.txt', 'r')\n",
    "arr = input_file.readlines()\n",
    "arr = list(map(lambda val: extract_to_tuple(val), arr))"
   ]
  },
  {
   "cell_type": "code",
   "execution_count": 11,
   "metadata": {},
   "outputs": [],
   "source": [
    "#Part 1: Compute the horizontal and vertical position of the submarine"
   ]
  },
  {
   "cell_type": "code",
   "execution_count": 22,
   "metadata": {},
   "outputs": [
    {
     "name": "stdout",
     "output_type": "stream",
     "text": [
      "Horizontal:  1950\n",
      "Vertical:  823\n",
      "Total:  1604850\n"
     ]
    }
   ],
   "source": [
    "horizontal = 0\n",
    "vertical = 0\n",
    "\n",
    "def handle_entry1(val):\n",
    "    global horizontal\n",
    "    global vertical\n",
    "    if(val[0] == \"forward\"):\n",
    "        horizontal += val[1]\n",
    "    elif(val[0] == \"up\"):\n",
    "        vertical -= val[1]\n",
    "    else:\n",
    "        vertical += val[1]\n",
    "\n",
    "for val in arr:\n",
    "    handle_entry1(val)\n",
    "\n",
    "print(\"Horizontal: \", horizontal)\n",
    "print(\"Vertical: \", vertical)\n",
    "print(\"Total: \", horizontal * vertical)"
   ]
  },
  {
   "cell_type": "code",
   "execution_count": null,
   "metadata": {},
   "outputs": [],
   "source": [
    "#Part 2: Compute the horizontal and vertical position of the submarine using the aim"
   ]
  },
  {
   "cell_type": "code",
   "execution_count": 23,
   "metadata": {},
   "outputs": [
    {
     "name": "stdout",
     "output_type": "stream",
     "text": [
      "Horizontal:  1950\n",
      "Vertical:  864198\n",
      "Total:  1685186100\n"
     ]
    }
   ],
   "source": [
    "horizontal = 0\n",
    "vertical = 0\n",
    "aim = 0\n",
    "\n",
    "def handle_entry2(val):\n",
    "    global horizontal\n",
    "    global vertical\n",
    "    global aim\n",
    "    \n",
    "    if(val[0] == \"up\"):\n",
    "        aim -= val[1]\n",
    "    elif(val[0] == \"down\"):\n",
    "        aim += val[1]\n",
    "    else:\n",
    "        horizontal += val[1]\n",
    "        vertical += val[1] * aim\n",
    "\n",
    "for val in arr:\n",
    "    handle_entry2(val)\n",
    "    \n",
    "print(\"Horizontal: \", horizontal)\n",
    "print(\"Vertical: \", vertical)\n",
    "print(\"Total: \", horizontal * vertical)"
   ]
  },
  {
   "cell_type": "code",
   "execution_count": null,
   "metadata": {},
   "outputs": [],
   "source": []
  }
 ],
 "metadata": {
  "kernelspec": {
   "display_name": "Python 3",
   "language": "python",
   "name": "python3"
  },
  "language_info": {
   "codemirror_mode": {
    "name": "ipython",
    "version": 3
   },
   "file_extension": ".py",
   "mimetype": "text/x-python",
   "name": "python",
   "nbconvert_exporter": "python",
   "pygments_lexer": "ipython3",
   "version": "3.7.7"
  }
 },
 "nbformat": 4,
 "nbformat_minor": 4
}
