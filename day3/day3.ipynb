{
 "cells": [
  {
   "cell_type": "code",
   "execution_count": 42,
   "metadata": {},
   "outputs": [],
   "source": [
    "#Read input from file"
   ]
  },
  {
   "cell_type": "code",
   "execution_count": 43,
   "metadata": {},
   "outputs": [],
   "source": [
    "def get_input():\n",
    "    input_file = open('day3_input.txt', 'r')\n",
    "    arr = input_file.readlines()\n",
    "    return list(map(lambda val: [int(digit) for digit in val.strip()], arr))\n",
    "\n",
    "arr = get_input()"
   ]
  },
  {
   "cell_type": "code",
   "execution_count": 44,
   "metadata": {},
   "outputs": [],
   "source": [
    "#Add helper functions"
   ]
  },
  {
   "cell_type": "code",
   "execution_count": 45,
   "metadata": {},
   "outputs": [],
   "source": [
    "def get_decimal_from_binary_array(arr):\n",
    "    val = [str(bit) for bit in arr]\n",
    "    val = \"\".join(val)\n",
    "    return int(val, 2)"
   ]
  },
  {
   "cell_type": "code",
   "execution_count": 46,
   "metadata": {},
   "outputs": [],
   "source": [
    "#Part 1:\n",
    "#Find gamma rate and epsilon rate by computing the counts of bits in each position\n",
    "#This can be achieved by maintaining a rate_matrix and incrementing the counter"
   ]
  },
  {
   "cell_type": "code",
   "execution_count": 47,
   "metadata": {},
   "outputs": [
    {
     "name": "stdout",
     "output_type": "stream",
     "text": [
      "Power:  2003336\n"
     ]
    }
   ],
   "source": [
    "rate_matrix = [[0 for j in range(2)] for i in range(len(arr[0]))]\n",
    "\n",
    "def update_rate_matrix(val):\n",
    "    global rate_matrix\n",
    "    for i in range(len(val)):\n",
    "        bit = val[i]\n",
    "        rate_matrix[i][bit] += 1\n",
    "\n",
    "for val in arr:\n",
    "    update_rate_matrix(val)\n",
    "\n",
    "gamma_rate_matrix = [0 if val[0] > val[1] else 1 for val in rate_matrix]\n",
    "epsilon_rate_matrix = [0 if val[0] < val[1] else 1 for val in rate_matrix]\n",
    "\n",
    "gamma_rate = get_decimal_from_binary_array(gamma_rate_matrix)\n",
    "epsilon_rate = get_decimal_from_binary_array(epsilon_rate_matrix)\n",
    "\n",
    "print('Power: ', gamma_rate * epsilon_rate)"
   ]
  },
  {
   "cell_type": "code",
   "execution_count": 48,
   "metadata": {},
   "outputs": [],
   "source": [
    "#Part 2:"
   ]
  },
  {
   "cell_type": "code",
   "execution_count": 49,
   "metadata": {},
   "outputs": [
    {
     "name": "stdout",
     "output_type": "stream",
     "text": [
      "CO2 rating:  737\n"
     ]
    }
   ],
   "source": [
    "def get_co2_rating(arr, index):\n",
    "    if(len(arr) == 1):\n",
    "        return arr[0]\n",
    "    \n",
    "    count = [0, 0]\n",
    "    for val in arr:\n",
    "        count[val[index]] += 1\n",
    "    keep_zeroes = True\n",
    "    if(count[0] > count[1]):\n",
    "        keep_zeroes = False\n",
    "    \n",
    "    new_arr = []\n",
    "    for val in arr:\n",
    "        if(val[index] == 0 and keep_zeroes):\n",
    "            new_arr.append(val)\n",
    "        if(val[index] == 1 and not keep_zeroes):\n",
    "            new_arr.append(val)\n",
    "    return get_co2_rating(new_arr, index + 1)\n",
    "\n",
    "co2_rating = get_co2_rating(arr, 0)\n",
    "co2_rating = get_decimal_from_binary_array(co2_rating)\n",
    "print('CO2 rating: ', co2_rating)"
   ]
  },
  {
   "cell_type": "code",
   "execution_count": 50,
   "metadata": {},
   "outputs": [
    {
     "name": "stdout",
     "output_type": "stream",
     "text": [
      "Oxygen rating 2547\n"
     ]
    }
   ],
   "source": [
    "def get_oxygen_rating(arr, index):\n",
    "    if(len(arr) == 1):\n",
    "        return arr[0]\n",
    "    \n",
    "    count = [0, 0]\n",
    "    for val in arr:\n",
    "        count[val[index]] += 1\n",
    "    \n",
    "    keep_ones = True\n",
    "    if(count[0] > count[1]):\n",
    "        keep_ones = False\n",
    "    \n",
    "    new_arr = []\n",
    "    for val in arr:\n",
    "        if(val[index] == 0 and not keep_ones):\n",
    "            new_arr.append(val)\n",
    "        if(val[index] == 1 and keep_ones):\n",
    "            new_arr.append(val)\n",
    "    return get_oxygen_rating(new_arr, index + 1)\n",
    "\n",
    "oxygen_rating = get_oxygen_rating(arr, 0)\n",
    "oxygen_rating = get_decimal_from_binary_array(oxygen_rating)\n",
    "print('Oxygen rating', oxygen_rating)"
   ]
  },
  {
   "cell_type": "code",
   "execution_count": 51,
   "metadata": {},
   "outputs": [
    {
     "name": "stdout",
     "output_type": "stream",
     "text": [
      "Life support rating:  1877139\n"
     ]
    }
   ],
   "source": [
    "print('Life support rating: ', co2_rating * oxygen_rating)"
   ]
  },
  {
   "cell_type": "code",
   "execution_count": null,
   "metadata": {},
   "outputs": [],
   "source": []
  }
 ],
 "metadata": {
  "kernelspec": {
   "display_name": "Python 3",
   "language": "python",
   "name": "python3"
  },
  "language_info": {
   "codemirror_mode": {
    "name": "ipython",
    "version": 3
   },
   "file_extension": ".py",
   "mimetype": "text/x-python",
   "name": "python",
   "nbconvert_exporter": "python",
   "pygments_lexer": "ipython3",
   "version": "3.7.7"
  }
 },
 "nbformat": 4,
 "nbformat_minor": 4
}
